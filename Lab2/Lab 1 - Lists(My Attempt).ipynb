{
 "cells": [
  {
   "cell_type": "markdown",
   "id": "ac613382-acda-4f55-909d-5deb9a1afbda",
   "metadata": {},
   "source": [
    "# Lists\n",
    "\n",
    "## Background\n",
    "Lists are one of the most commonly used data structures in Python and are very similar to arrays from other programming languages. A list can store many items or values inside of one overall object or structure, unlike a variable which can only store one item or value inside one object. \n",
    "\n",
    "The items in a list can be accessed by using what is called an “index” value, which simply refers to the position of a certain item inside of a list, as lists are ordered from item 0 to the number of elements - 1. Therefore a list with 5 elements will have index positions 0 through 4. \n",
    "\n",
    "Any data can be stored inside a list, numbers, strings, or objects, but it is common practice to only have one data type per list. Therefore if my list has integers, it would ONLY have integers, not strings, doubles, objects, etc."
   ]
  },
  {
   "cell_type": "markdown",
   "id": "c0e77989-3dbb-4106-b49b-f8dfa5bfeab5",
   "metadata": {},
   "source": [
    "## Mini-project - Guessing game\n",
    "Create a number guessing game and set a secret number at the beginning of the program. \n",
    "The program will ask the player to enter a number to guess what the number is, then it’ll inform the player if they got it right or wrong."
   ]
  },
  {
   "cell_type": "code",
   "execution_count": null,
   "id": "4ff13200-3b6b-4173-8416-fa65d2234d9e",
   "metadata": {},
   "outputs": [],
   "source": [
    "import random\n",
    "user_input=int(input(\"Guess a random number from 1 to 10:\"))\n",
    "random_number=random.randint(0,10)\n",
    "print(\"The Number was:\",random_number)\n",
    "\n",
    "if user_input == random_number:\n",
    "    print(random_number, \"Was the correct answer\")\n",
    "else:\n",
    "    print(random_number, \"You guessed incorrectly\")"
   ]
  },
  {
   "cell_type": "markdown",
   "id": "4584cbfd-289d-4f0d-a899-06d90d69e3fe",
   "metadata": {},
   "source": [
    "## Mini-Project - Dice Roll\n",
    "\n",
    "Part 1:\n",
    "Create a random number generator using dice. \n",
    "You must create at least 5 dice\n",
    "The game must use conditionals (If, Else, Elif)\n",
    "The game must use nested conditionals (if 0=0:if 1=1: do something)\n",
    "\n",
    "What lists should we create for the project?\n",
    "How many loops do we need?\n",
    "\n",
    "Part 2:\n",
    "Create a list to store your gameplay. \n",
    "Create at least 2 lists to store your game statistics.\n",
    "\n",
    "Part 3:\n",
    "At the end of the output your gameplay statistics\n",
    "\n",
    "Part 4:\n",
    "Exchange code with your partner and begin adding comments on improvements (save your original version)\n",
    "\n",
    "Part 5:\n",
    "Return the code and create a comparison \n",
    "\n",
    "Part 6:\n",
    "Upload the code and comparison it to Canvas. "
   ]
  },
  {
   "cell_type": "code",
   "execution_count": null,
   "id": "c1a378f3-4f8f-44c6-9181-8c2030ecc6ac",
   "metadata": {},
   "outputs": [],
   "source": [
    "import random\n",
    "random_dice_numbers=[]\n",
    "for i in range(5):\n",
    "        generated_dice_numbers= random.randint (1,6)\n",
    "        random_dice_numbers.append(generated_dice_numbers)\n",
    "    # print(random_dice_numbers)"
   ]
  },
  {
   "cell_type": "code",
   "execution_count": null,
   "id": "3faf490c",
   "metadata": {},
   "outputs": [],
   "source": [
    "inputed_user_list=[]\n",
    "for i in range(5):\n",
    "            dice_user_input= int(input(\"Enter five numbers:\"))\n",
    "            inputed_user_list.append(dice_user_input)\n",
    "# print(inputed_user_list)"
   ]
  },
  {
   "cell_type": "code",
   "execution_count": null,
   "id": "15a88a6c",
   "metadata": {},
   "outputs": [],
   "source": [
    "count_amount={}\n",
    "for element in random_dice_numbers:\n",
    "    if element in count_amount:\n",
    "        count_amount[element] +=1\n",
    "    else:\n",
    "        count_amount[element]=1\n",
    "print(\"The Numbers Rolled Were:\")\n",
    "for element, count in count_amount.items():\n",
    "    print (f'Number {element} rolled {count} times')"
   ]
  },
  {
   "cell_type": "code",
   "execution_count": null,
   "id": "9083e652",
   "metadata": {},
   "outputs": [],
   "source": [
    "from difflib import SequenceMatcher\n",
    "similarity= SequenceMatcher (None, random_dice_numbers,inputed_user_list).ratio()*100\n",
    "print (f\"Similarity between roles: {similarity}%\")"
   ]
  },
  {
   "cell_type": "code",
   "execution_count": null,
   "id": "46ae5b9c",
   "metadata": {},
   "outputs": [],
   "source": [
    "if 0 <= similarity <=25:\n",
    "    print (\"You shouldn't go to Vegas\")\n",
    "elif 26 <= similarity <= 50:\n",
    "    print (\"Go to Vegas but don't beat big\")\n",
    "elif 51 <= similarity <= 100:\n",
    "    print (\"Forget Vegas go buy a lottery ticket\")\n",
    "else:\n",
    "    print(\"The Game Broke\")\n"
   ]
  },
  {
   "cell_type": "code",
   "execution_count": null,
   "id": "8f24020f",
   "metadata": {},
   "outputs": [],
   "source": []
  },
  {
   "cell_type": "markdown",
   "id": "024a25d5-cb96-44be-9e7c-cb852c12f272",
   "metadata": {},
   "source": [
    "## Sample code\n",
    "Below you will find a Chat GPT generated Dice game.\n",
    "\n",
    "Lets talk about it. "
   ]
  },
  {
   "cell_type": "code",
   "execution_count": null,
   "id": "22a730ba-7ed0-4f65-8e31-fdaee97e43a3",
   "metadata": {},
   "outputs": [],
   "source": [
    "import random\n",
    "\n",
    "def roll_dice():\n",
    "    return random.randint(1, 6)\n",
    "\n",
    "def main():\n",
    "    print(\"Welcome to the Dice Rolling Game!\")\n",
    "    print(\"You and the computer will each roll a dice, and the one with the higher number wins.\")\n",
    "\n",
    "    while True:\n",
    "        input(\"Press Enter to roll the dice...\")\n",
    "        \n",
    "        user_roll = roll_dice()\n",
    "        computer_roll = roll_dice()\n",
    "\n",
    "        print(\"You rolled:\", user_roll)\n",
    "        print(\"Computer rolled:\", computer_roll)\n",
    "\n",
    "        if user_roll > computer_roll:\n",
    "            print(\"Congratulations! You win!\")\n",
    "        elif user_roll < computer_roll:\n",
    "            print(\"Sorry, you lost. Better luck next time!\")\n",
    "        else:\n",
    "            print(\"It's a tie!\")\n",
    "\n",
    "        play_again = input(\"Do you want to play again? (yes/no): \").lower()\n",
    "        if play_again != \"yes\":\n",
    "            print(\"Thanks for playing!\")\n",
    "            break\n",
    "\n",
    "if __name__ == \"__main__\":\n",
    "    main()"
   ]
  },
  {
   "cell_type": "code",
   "execution_count": null,
   "id": "31e6d976-765c-4a4a-848a-4fedaa2bf83a",
   "metadata": {},
   "outputs": [],
   "source": []
  }
 ],
 "metadata": {
  "kernelspec": {
   "display_name": "Python 3 (ipykernel)",
   "language": "python",
   "name": "python3"
  },
  "language_info": {
   "codemirror_mode": {
    "name": "ipython",
    "version": 3
   },
   "file_extension": ".py",
   "mimetype": "text/x-python",
   "name": "python",
   "nbconvert_exporter": "python",
   "pygments_lexer": "ipython3",
   "version": "3.11.5"
  }
 },
 "nbformat": 4,
 "nbformat_minor": 5
}
